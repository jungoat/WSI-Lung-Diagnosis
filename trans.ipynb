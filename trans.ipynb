{
 "cells": [
  {
   "cell_type": "markdown",
   "id": "af8785bc",
   "metadata": {},
   "source": [
    "## Data"
   ]
  },
  {
   "cell_type": "code",
   "execution_count": 17,
   "id": "b6c91c22",
   "metadata": {},
   "outputs": [
    {
     "name": "stdout",
     "output_type": "stream",
     "text": [
      " clam_slide_labels.csv save\n",
      "[ slide ]: 784\n",
      "[ cancer (label=1)]: 540\n",
      "[ normal (label=0)]: 244\n"
     ]
    }
   ],
   "source": [
    "import os\n",
    "import pandas as pd\n",
    "\n",
    "svs_dir = \"DATA_DIRECTORY\" \n",
    "output_csv = \"dataset_csv/clam_slide_labels.csv\"\n",
    "\n",
    "svs_files = [f for f in os.listdir(svs_dir) if f.endswith(\".svs\")]\n",
    "\n",
    "def get_label_from_sample_code(filename):\n",
    "    try:\n",
    "        sample_code = filename.split(\"-\")[3][:2]\n",
    "        if sample_code in [\"01\", \"02\"]:  \n",
    "            return 1\n",
    "        elif sample_code == \"11\":       \n",
    "            return 0\n",
    "        else:\n",
    "            return None               \n",
    "    except:\n",
    "        return None\n",
    "\n",
    "records = []\n",
    "for f in svs_files:\n",
    "    label = get_label_from_sample_code(f)\n",
    "    if label is not None:\n",
    "        records.append({\"slide_id\": f, \"label\": label})\n",
    "\n",
    "df = pd.DataFrame(records)\n",
    "df.to_csv(output_csv, index=False)\n",
    "\n",
    "num_total = len(df)\n",
    "num_cancer = sum(df[\"label\"] == 1)\n",
    "num_normal = sum(df[\"label\"] == 0)\n",
    "\n",
    "print(f\" clam_slide_labels.csv save\")\n",
    "print(f\"[ slide ]: {num_total}\")\n",
    "print(f\"[ cancer (label=1)]: {num_cancer}\")\n",
    "print(f\"[ normal (label=0)]: {num_normal}\")"
   ]
  },
  {
   "cell_type": "code",
   "execution_count": 19,
   "id": "58827488",
   "metadata": {},
   "outputs": [
    {
     "name": "stdout",
     "output_type": "stream",
     "text": [
      "[ cancer case (label=1)]: 477\n",
      "[ normal case (label=0)]: 198\n"
     ]
    }
   ],
   "source": [
    "label_csv = \"dataset_csv/clam_slide_labels.csv\"\n",
    "\n",
    "df = pd.read_csv(label_csv)\n",
    "\n",
    "def get_submitter_id(filename):\n",
    "    return \"-\".join(filename.split(\"-\")[:3])\n",
    "\n",
    "df[\"submitter_id\"] = df[\"slide_id\"].apply(get_submitter_id)\n",
    "\n",
    "case_cancer = df[df[\"label\"] == 1][\"submitter_id\"].nunique()\n",
    "case_normal = df[df[\"label\"] == 0][\"submitter_id\"].nunique()\n",
    "\n",
    "print(f\"[ cancer case (label=1)]: {case_cancer}\")\n",
    "print(f\"[ normal case (label=0)]: {case_normal}\")"
   ]
  },
  {
   "cell_type": "markdown",
   "id": "002a4277",
   "metadata": {},
   "source": [
    "## train_data"
   ]
  },
  {
   "cell_type": "code",
   "execution_count": null,
   "id": "83c86e7f",
   "metadata": {},
   "outputs": [],
   "source": [
    "import pandas as pd\n",
    "import os\n",
    "\n",
    "csv_input_path = 'slide_labels.csv'\n",
    "feature_dir = 'features'\n",
    "csv_output_path = 'train_slide_labels.csv'\n",
    "\n",
    "df = pd.read_csv('csv_input_path')\n",
    "\n",
    "df['slide_path'] = df['slide_id'].apply(lambda x: os.path.joun(feature_dir, f\"{x}.pt\"))\n",
    "\n",
    "df = df[['slide_id', 'slide_path', 'label']]\n",
    "df.to_csv(csv_output_path, index=False)\n",
    "\n",
    "print(f\"transform finish~~ : {csv_output_path}\")\n",
    "print(df.head())"
   ]
  },
  {
   "cell_type": "markdown",
   "id": "f6d23f48",
   "metadata": {},
   "source": [
    "## Split_data_K-Fold (K=10)"
   ]
  },
  {
   "cell_type": "code",
   "execution_count": null,
   "id": "b58f2dce",
   "metadata": {},
   "outputs": [],
   "source": [
    "import pandas as pd\n",
    "import numpy as np\n",
    "from sklearn.model_selection import StratifiedKFold\n",
    "import os\n",
    "\n",
    "label_csv_path = \"dataset_csv/slide_labels.csv\"\n",
    "save_dir = \"dataset_csv/splits/task1\"\n",
    "os.makedirs(save_dir, exist_ok=True)\n",
    "\n",
    "df = pd.read_csv(label_csv_path)\n",
    "assert \"slide_id\" in df.columns and \"label\" in df.columns, \"slide_labels.csv에 'slide_id', 'label' 컬럼 있어함요\"\n",
    "\n",
    "X = df[\"slide_id\"].values\n",
    "y = df[\"label\"].values \n",
    "\n",
    "skf = StratifiedKFold(n_splits=10, shuffle=True, random_state=220)\n",
    "\n",
    "for i, (train_val_idx, test_idx) in enumerate(skf.split(X, y)):\n",
    "    X_train_val, y_train_val = X[train_val_idx], y[train_val_idx]\n",
    "    skf_inner = StratifiedKFold(n_splits=9, shuffle=True, random_state=220)\n",
    "    train_idx_inner, val_idx_inner = next(skf_inner.split(X_train_val, y_train_val))\n",
    "    \n",
    "    train_idx = train_val_idx[train_idx_inner]\n",
    "    val_idx = train_val_idx[val_idx_inner]\n",
    "\n",
    "    bool_df = pd.DataFrame(index=X, columns=[\"train\", \"val\", \"test\"], data=False)\n",
    "    bool_df.loc[X[train_idx], \"train\"] = True\n",
    "    bool_df.loc[X[val_idx], \"val\"] = True\n",
    "    bool_df.loc[X[test_idx], \"test\"] = True\n",
    "    bool_df.index.name = \"slide_id\"\n",
    "    bool_df.to_csv(f\"{save_dir}/splits_{i}_bool.csv\")\n",
    "\n",
    "    def count_class(indices):\n",
    "        y_sub = y[np.isin(X, X[indices])]\n",
    "        normal = np.sum(y_sub == 0)\n",
    "        tumor = np.sum(y_sub == 1)\n",
    "        return normal, tumor\n",
    "\n",
    "    train_n, train_t = count_class(train_idx)\n",
    "    val_n, val_t = count_class(val_idx)\n",
    "    test_n, test_t = count_class(test_idx)\n",
    "\n",
    "    desc_df = pd.DataFrame({\n",
    "        \"train\": [train_n, train_t],\n",
    "        \"val\": [val_n, val_t],\n",
    "        \"test\": [test_n, test_t],\n",
    "    }, index=[\"normal_tissue\", \"tumor_tissue\"])\n",
    "    desc_df.to_csv(f\"{save_dir}/splits_{i}_descriptor.csv\")\n",
    "\n",
    "    max_len = max(len(train_idx), len(val_idx), len(test_idx))\n",
    "    pad = lambda arr: np.pad(arr, (0, max_len - len(arr)), constant_values=\"\")\n",
    "    split_df = pd.DataFrame({\n",
    "        \"train\": pad(X[train_idx]),\n",
    "        \"val\": pad(X[val_idx]),\n",
    "        \"test\": pad(X[test_idx]),\n",
    "    })\n",
    "    split_df.to_csv(f\"{save_dir}/splits_{i}.csv\", index_label=\"index\")\n",
    "\n",
    "print(\"10 split finish\")"
   ]
  }
 ],
 "metadata": {
  "kernelspec": {
   "display_name": "ami4",
   "language": "python",
   "name": "python3"
  },
  "language_info": {
   "codemirror_mode": {
    "name": "ipython",
    "version": 3
   },
   "file_extension": ".py",
   "mimetype": "text/x-python",
   "name": "python",
   "nbconvert_exporter": "python",
   "pygments_lexer": "ipython3",
   "version": "3.10.18"
  }
 },
 "nbformat": 4,
 "nbformat_minor": 5
}
